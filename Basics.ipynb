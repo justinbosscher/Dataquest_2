{
 "cells": [
  {
   "cell_type": "markdown",
   "metadata": {
    "collapsed": true
   },
   "source": [
    "# Dataquest.io Guided Project 02"
   ]
  },
  {
   "cell_type": "code",
   "execution_count": 1,
   "metadata": {
    "collapsed": false
   },
   "outputs": [
    {
     "name": "stdout",
     "output_type": "stream",
     "text": [
      "[['id', 'title', 'url', 'num_points', 'num_comments', 'author', 'created_at'], ['12224879', 'Interactive Dynamic Video', 'http://www.interactivedynamicvideo.com/', '386', '52', 'ne0phyte', '8/4/2016 11:52'], ['10975351', 'How to Use Open Source and Shut the Fuck Up at the Same Time', 'http://hueniverse.com/2016/01/26/how-to-use-open-source-and-shut-the-fuck-up-at-the-same-time/', '39', '10', 'josep2', '1/26/2016 19:30'], ['11964716', \"Florida DJs May Face Felony for April Fools' Water Joke\", 'http://www.thewire.com/entertainment/2013/04/florida-djs-april-fools-water-joke/63798/', '2', '1', 'vezycash', '6/23/2016 22:20'], ['11919867', 'Technology ventures: From Idea to Enterprise', 'https://www.amazon.com/Technology-Ventures-Enterprise-Thomas-Byers/dp/0073523429', '3', '1', 'hswarna', '6/17/2016 0:01']]\n"
     ]
    }
   ],
   "source": [
    "# Import the reader function from the csv module\n",
    "from csv import reader\n",
    "\n",
    "# Open and read hacker news file, hn\n",
    "opened_file = open('hacker_news.csv')\n",
    "read_file = reader(opened_file)\n",
    "hn = list(read_file)\n",
    "\n",
    "# Print first 5 rows\n",
    "print(hn[0:5])"
   ]
  },
  {
   "cell_type": "code",
   "execution_count": 2,
   "metadata": {
    "collapsed": false
   },
   "outputs": [
    {
     "name": "stdout",
     "output_type": "stream",
     "text": [
      "['id', 'title', 'url', 'num_points', 'num_comments', 'author', 'created_at']\n"
     ]
    }
   ],
   "source": [
    "# Remove headers and save\n",
    "headers = hn[0]\n",
    "hn = hn[1:]\n",
    "print(headers)"
   ]
  },
  {
   "cell_type": "code",
   "execution_count": 3,
   "metadata": {
    "collapsed": false
   },
   "outputs": [
    {
     "name": "stdout",
     "output_type": "stream",
     "text": [
      "[['12224879', 'Interactive Dynamic Video', 'http://www.interactivedynamicvideo.com/', '386', '52', 'ne0phyte', '8/4/2016 11:52'], ['10975351', 'How to Use Open Source and Shut the Fuck Up at the Same Time', 'http://hueniverse.com/2016/01/26/how-to-use-open-source-and-shut-the-fuck-up-at-the-same-time/', '39', '10', 'josep2', '1/26/2016 19:30'], ['11964716', \"Florida DJs May Face Felony for April Fools' Water Joke\", 'http://www.thewire.com/entertainment/2013/04/florida-djs-april-fools-water-joke/63798/', '2', '1', 'vezycash', '6/23/2016 22:20'], ['11919867', 'Technology ventures: From Idea to Enterprise', 'https://www.amazon.com/Technology-Ventures-Enterprise-Thomas-Byers/dp/0073523429', '3', '1', 'hswarna', '6/17/2016 0:01'], ['10301696', 'Note by Note: The Making of Steinway L1037 (2007)', 'http://www.nytimes.com/2007/11/07/movies/07stein.html?_r=0', '8', '2', 'walterbell', '9/30/2015 4:12']]\n"
     ]
    }
   ],
   "source": [
    "# Print first five rows of hn\n",
    "print(hn[0:5])"
   ]
  },
  {
   "cell_type": "code",
   "execution_count": 4,
   "metadata": {
    "collapsed": false
   },
   "outputs": [
    {
     "name": "stdout",
     "output_type": "stream",
     "text": [
      "Number of ask posts:  1744\n",
      "Number of show posts:  1162\n",
      "Number of other posts:  17194\n"
     ]
    }
   ],
   "source": [
    "# Create ask, show, and other lists\n",
    "ask_posts = []\n",
    "show_posts = []\n",
    "other_posts = []\n",
    "\n",
    "# Loop through hn\n",
    "for row in hn:\n",
    "    title = row[1]\n",
    "    if title.lower().startswith('ask hn'):\n",
    "        ask_posts.append(row)\n",
    "    elif title.lower().startswith('show hn'):\n",
    "        show_posts.append(row)\n",
    "    else:\n",
    "        other_posts.append(row)\n",
    "\n",
    "# Check lengths of the three lists\n",
    "print(\"Number of ask posts: \", len(ask_posts))\n",
    "print(\"Number of show posts: \", len(show_posts))\n",
    "print(\"Number of other posts: \", len(other_posts))"
   ]
  },
  {
   "cell_type": "markdown",
   "metadata": {},
   "source": [
    "### Determine if the ask posts or show posts receive more comments on average"
   ]
  },
  {
   "cell_type": "code",
   "execution_count": 5,
   "metadata": {
    "collapsed": false
   },
   "outputs": [
    {
     "name": "stdout",
     "output_type": "stream",
     "text": [
      "The average number of comments on ask posts:  14.038417431192661\n"
     ]
    }
   ],
   "source": [
    "total_ask_comments = 0\n",
    "\n",
    "# Loop over ask_posts and add up the numbers of comments\n",
    "for row in ask_posts:\n",
    "    num = int(row[4])\n",
    "    total_ask_comments += num\n",
    "\n",
    "# Compute average\n",
    "avg_ask_comments = total_ask_comments / len(ask_posts)\n",
    "print(\"The average number of comments on ask posts: \", avg_ask_comments)"
   ]
  },
  {
   "cell_type": "code",
   "execution_count": 6,
   "metadata": {
    "collapsed": false
   },
   "outputs": [
    {
     "name": "stdout",
     "output_type": "stream",
     "text": [
      "The average number of comments on show posts:  10.31669535283993\n"
     ]
    }
   ],
   "source": [
    "total_show_comments = 0\n",
    "\n",
    "# Loop over ask_posts and add up the numbers of comments\n",
    "for row in show_posts:\n",
    "    num = int(row[4])\n",
    "    total_show_comments += num\n",
    "\n",
    "# Compute average\n",
    "avg_show_comments = total_show_comments / len(show_posts)\n",
    "print(\"The average number of comments on show posts: \", avg_show_comments)"
   ]
  },
  {
   "cell_type": "markdown",
   "metadata": {},
   "source": [
    "### From the code above, one can see that the average number of comments received on ask posts (14.04) is greater than that received on show posts (10.32)."
   ]
  },
  {
   "cell_type": "code",
   "execution_count": 7,
   "metadata": {
    "collapsed": false
   },
   "outputs": [],
   "source": [
    "# Import datetime module\n",
    "import datetime as dt\n",
    "\n",
    "# result_list contains the time a comment is created and the number of posts\n",
    "result_list = []\n",
    "\n",
    "# Iterate over ask_posts, append time created and number to result_list\n",
    "for row in ask_posts:\n",
    "    time = row[6]\n",
    "    num = row[4]\n",
    "    result_list.append([time, num])\n",
    "    \n",
    "# Instantiate empty dictionaries\n",
    "counts_by_hour = {}\n",
    "comments_by_hour = {}\n",
    "\n",
    "# Iterate over result_list\n",
    "for row in result_list:\n",
    "    # 10/15/2015 16:38\n",
    "    dt_str = row[0]\n",
    "    dt_obj = dt.datetime.strptime(dt_str, \"%m/%d/%Y %H:%M\")\n",
    "    hour = dt_obj.strftime(\"%H\")\n",
    "    if hour in counts_by_hour:\n",
    "        counts_by_hour[hour] += 1\n",
    "        comments_by_hour[hour] += int(row[1])\n",
    "    else:\n",
    "        counts_by_hour[hour] = 1\n",
    "        comments_by_hour[hour] = int(row[1])"
   ]
  },
  {
   "cell_type": "code",
   "execution_count": 47,
   "metadata": {
    "collapsed": false
   },
   "outputs": [
    {
     "name": "stdout",
     "output_type": "stream",
     "text": [
      "[['01', 11.383333333333333], ['18', 13.20183486238532], ['17', 11.46], ['21', 16.009174311926607], ['03', 7.796296296296297], ['06', 9.022727272727273], ['07', 7.852941176470588], ['13', 14.741176470588234], ['20', 21.525], ['11', 11.051724137931034], ['04', 7.170212765957447], ['10', 13.440677966101696], ['16', 16.796296296296298], ['00', 8.127272727272727], ['08', 10.25], ['22', 6.746478873239437], ['09', 5.5777777777777775], ['23', 7.985294117647059], ['15', 38.5948275862069], ['19', 10.8], ['05', 10.08695652173913], ['12', 9.41095890410959], ['14', 13.233644859813085], ['02', 23.810344827586206]]\n"
     ]
    }
   ],
   "source": [
    "# Compute average number of comments per post for posts created during each hour of the day\n",
    "avg_by_hour = []\n",
    "\n",
    "# Iterate over over counts\n",
    "for hour in comments_by_hour:\n",
    "    avg_by_hour.append([hour, comments_by_hour[hour]/counts_by_hour[hour]])\n",
    "\n",
    "print(avg_by_hour)"
   ]
  },
  {
   "cell_type": "code",
   "execution_count": 48,
   "metadata": {
    "collapsed": false
   },
   "outputs": [
    {
     "name": "stdout",
     "output_type": "stream",
     "text": [
      "[[11.383333333333333, '01'], [13.20183486238532, '18'], [11.46, '17'], [16.009174311926607, '21'], [7.796296296296297, '03'], [9.022727272727273, '06'], [7.852941176470588, '07'], [14.741176470588234, '13'], [21.525, '20'], [11.051724137931034, '11'], [7.170212765957447, '04'], [13.440677966101696, '10'], [16.796296296296298, '16'], [8.127272727272727, '00'], [10.25, '08'], [6.746478873239437, '22'], [5.5777777777777775, '09'], [7.985294117647059, '23'], [38.5948275862069, '15'], [10.8, '19'], [10.08695652173913, '05'], [9.41095890410959, '12'], [13.233644859813085, '14'], [23.810344827586206, '02']]\n"
     ]
    }
   ],
   "source": [
    "swap_avg_by_hour = []\n",
    "\n",
    "# Loop over avg_by_hour, swap columns\n",
    "for row in avg_by_hour:\n",
    "    swap_avg_by_hour.append([row[1], row[0]])\n",
    "\n",
    "# Print the swapped list\n",
    "print(swap_avg_by_hour)"
   ]
  },
  {
   "cell_type": "code",
   "execution_count": 49,
   "metadata": {
    "collapsed": false
   },
   "outputs": [
    {
     "name": "stdout",
     "output_type": "stream",
     "text": [
      "Top 5 Hours for Ask Posts Comments\n",
      "15:01: 38.00 average comments per post\n",
      "02:01: 23.00 average comments per post\n",
      "20:01: 21.00 average comments per post\n",
      "16:01: 16.00 average comments per post\n",
      "21:01: 16.00 average comments per post\n"
     ]
    }
   ],
   "source": [
    "# Sort swapped list in reverse order\n",
    "sorted_swap = sorted(swap_avg_by_hour, reverse=True)\n",
    "\n",
    "# Import datetime module\n",
    "import datetime as dt\n",
    "\n",
    "print(\"Top 5 Hours for Ask Posts Comments\")\n",
    "for l in sorted_swap[0:5]:\n",
    "    time_dt = dt.datetime.strptime(l[1], \"%H\")\n",
    "    time_dt_1 = time_dt.time()\n",
    "    time = dt.time.strftime(time_dt_1, \"%H:%m\")\n",
    "    comments = int(l[0])\n",
    "    print('{1}: {0:.2f} average comments per post'.format(comments, time))"
   ]
  },
  {
   "cell_type": "code",
   "execution_count": null,
   "metadata": {
    "collapsed": true
   },
   "outputs": [],
   "source": []
  }
 ],
 "metadata": {
  "kernelspec": {
   "display_name": "Python 3",
   "language": "python",
   "name": "python3"
  },
  "language_info": {
   "codemirror_mode": {
    "name": "ipython",
    "version": 3
   },
   "file_extension": ".py",
   "mimetype": "text/x-python",
   "name": "python",
   "nbconvert_exporter": "python",
   "pygments_lexer": "ipython3",
   "version": "3.4.3"
  }
 },
 "nbformat": 4,
 "nbformat_minor": 2
}
